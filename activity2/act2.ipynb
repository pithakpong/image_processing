{
 "cells": [
  {
   "cell_type": "markdown",
   "metadata": {},
   "source": [
    "2.1"
   ]
  },
  {
   "cell_type": "code",
   "execution_count": 25,
   "metadata": {},
   "outputs": [
    {
     "name": "stdout",
     "output_type": "stream",
     "text": [
      "f1 with #set1\n",
      "[255 ,212 ,170 ,127 \n",
      "212 ,170 ,127 ,85 \n",
      "170 ,127 ,85 ,42 \n",
      "127 ,85 ,42 ,0 ]\n",
      "\n",
      "f1 with #set2\n",
      "[0 ,42 ,85 ,127 \n",
      "42 ,85 ,127 ,170 \n",
      "85 ,127 ,170 ,212 \n",
      "127 ,170 ,212 ,255 ]\n",
      "\n",
      "f1 with #set3\n",
      "[0 ,17 ,49 ,90 \n",
      "17 ,49 ,90 ,138 \n",
      "49 ,90 ,138 ,193 \n",
      "90 ,138 ,193 ,255 ]\n",
      "\n",
      "f1 with #set4\n",
      "[0 ,104 ,147 ,180 \n",
      "104 ,147 ,180 ,208 \n",
      "147 ,180 ,208 ,232 \n",
      "180 ,208 ,232 ,255 ]\n",
      "\n"
     ]
    }
   ],
   "source": [
    "import math\n",
    "f1 = [[0,10,20,30],[10,20,30,40],[20,30,40,50],[30,40,50,60]]\n",
    "f2 = [[100,120,140,160],[120,140,160,180],[140,160,180,200],[160,180,200,220]]\n",
    "def gramma_enhancement(img,gain,gramma,bias):\n",
    "    new_image = []\n",
    "    for row in img :\n",
    "        new_row = [] \n",
    "        for pixel in row : \n",
    "            new_row.append((math.pow(pixel,gramma))*gain + bias)\n",
    "        new_image.append(new_row)\n",
    "    return(new_image) \n",
    "\n",
    "def linear_enhancement(img,gain,bias):\n",
    "    new_image = []\n",
    "    for row in img :\n",
    "        new_row = [] \n",
    "        for pixel in row : \n",
    "            new_row.append(pixel*gain + bias)\n",
    "        new_image.append(new_row)\n",
    "    return(new_image)\n",
    "def display(image): \n",
    "    print('[',end='')\n",
    "    for index,row in enumerate(image) :\n",
    "        for dex,pixel in enumerate(row) :\n",
    "            print(f'{pixel} ',end='')\n",
    "            if dex != len(row)-1: \n",
    "                print(',',end='')\n",
    "        if (index == len(image)-1) : \n",
    "            print(']',end='')\n",
    "        print()\n",
    "    print()\n",
    "def quantization(image): \n",
    "    max1 = max(image[0])\n",
    "    min1 = min(image[0])\n",
    "    max2 = max(image[1])\n",
    "    min2 = min(image[1])\n",
    "    max3 = max(image[2])\n",
    "    min3 = min(image[2])\n",
    "    max4 = max(image[3])\n",
    "    min4 = min(image[3])\n",
    "    maxx = max(max1,max2,max3,max4)\n",
    "    minn = min(min1,min2,min3,min4)\n",
    "    new_image = []\n",
    "    for row in image : \n",
    "        new_row = []\n",
    "        for pixel in row : \n",
    "            new_row.append(math.floor((pixel-minn)*255/(maxx-minn)))\n",
    "        new_image.append(new_row)\n",
    "    return new_image\n",
    "\n",
    "print('f1 with #set1')\n",
    "display(quantization(linear_enhancement(f1,-1.5,10)))\n",
    "print('f1 with #set2')\n",
    "display(quantization(linear_enhancement(f1,1.5,10)))\n",
    "print('f1 with #set3')\n",
    "display(quantization(gramma_enhancement(f1,1.5,1.5,50)))\n",
    "print('f1 with #set4')\n",
    "display(quantization(gramma_enhancement(f1,1.5,0.5,50)))"
   ]
  },
  {
   "cell_type": "code",
   "execution_count": 26,
   "metadata": {},
   "outputs": [
    {
     "name": "stdout",
     "output_type": "stream",
     "text": [
      "f2 with #set1\n",
      "[255 ,241 ,228 ,214 \n",
      "241 ,228 ,214 ,201 \n",
      "228 ,214 ,201 ,187 \n",
      "214 ,0 ,187 ,174 ]\n",
      "\n",
      "f2 with #set2\n",
      "[0 ,13 ,26 ,40 \n",
      "13 ,26 ,40 ,53 \n",
      "26 ,40 ,53 ,67 \n",
      "40 ,255 ,67 ,80 ]\n",
      "\n",
      "f2 with #set3\n",
      "[0 ,8 ,17 ,27 \n",
      "8 ,17 ,27 ,37 \n",
      "17 ,27 ,37 ,48 \n",
      "27 ,255 ,48 ,60 ]\n",
      "\n",
      "f2 with #set4\n",
      "[0 ,20 ,39 ,56 \n",
      "20 ,39 ,56 ,73 \n",
      "39 ,56 ,73 ,88 \n",
      "56 ,255 ,88 ,103 ]\n",
      "\n"
     ]
    }
   ],
   "source": [
    "print('f2 with #set1')\n",
    "display(quantization(linear_enhancement(f2,-1.5,10)))\n",
    "print('f2 with #set2')\n",
    "display(quantization(linear_enhancement(f2,1.5,10)))\n",
    "print('f2 with #set3')\n",
    "display(quantization(gramma_enhancement(f2,1.5,1.5,50)))\n",
    "print('f2 with #set4')\n",
    "display(quantization(gramma_enhancement(f2,1.5,0.5,50)))"
   ]
  },
  {
   "cell_type": "markdown",
   "metadata": {},
   "source": [
    "2.2"
   ]
  },
  {
   "cell_type": "code",
   "execution_count": 10,
   "metadata": {},
   "outputs": [
    {
     "name": "stdout",
     "output_type": "stream",
     "text": [
      "image before convert\n",
      "[[84, 130, 53] ,[84, 130, 53] ,[169, 208, 142] ,[169, 208, 142] \n",
      "[84, 130, 53] ,[84, 130, 53] ,[169, 208, 142] ,[169, 208, 142] \n",
      "[84, 130, 53] ,[84, 130, 53] ,[255, 255, 0] ,[255, 255, 0] \n",
      "[84, 130, 53] ,[84, 130, 53] ,[255, 255, 0] ,[255, 192, 0] \n",
      "[84, 130, 53] ,[84, 130, 53] ,[255, 255, 0] ,[255, 192, 0] ]\n",
      "\n",
      "image after convert\n",
      "[89 ,89 ,173 ,173 \n",
      "89 ,89 ,173 ,173 \n",
      "89 ,89 ,170 ,170 \n",
      "89 ,89 ,170 ,149 \n",
      "89 ,89 ,170 ,149 ]\n",
      "\n"
     ]
    }
   ],
   "source": [
    "image = [[[84,130,53],[84,130,53],[169,208,142],[169,208,142]],[[84,130,53],[84,130,53],[169,208,142],[169,208,142]],[[84,130,53],[84,130,53],[255,255,0],[255,255,0]],[[84,130,53],[84,130,53],[255,255,0],[255,192,0]],[[84,130,53],[84,130,53],[255,255,0],[255,192,0]]]\n",
    "import math\n",
    "def rgb_to_gray(image): \n",
    "    new_image = []\n",
    "    for row in image :\n",
    "        new_row = [] \n",
    "        for pixel in row : \n",
    "            new_row.append(math.floor((pixel[0]+pixel[1]+pixel[2])/3))\n",
    "        new_image.append(new_row)\n",
    "    return(new_image)\n",
    "\n",
    "def display(image): \n",
    "    print('[',end='')\n",
    "    for index,row in enumerate(image) :\n",
    "        for dex,pixel in enumerate(row) :\n",
    "            print(f'{pixel} ',end='')\n",
    "            if dex != len(row)-1: \n",
    "                print(',',end='')\n",
    "        if (index == len(image)-1) : \n",
    "            print(']',end='')\n",
    "        print()\n",
    "    print()\n",
    "print(\"image before convert\")\n",
    "display(image)\n",
    "print(\"image after convert\")\n",
    "display(rgb_to_gray(image))\n",
    "\n",
    "def count_num(image,desire):\n",
    "    count = 0\n",
    "    for row in image : \n",
    "        count += row.count(desire)\n",
    "    return count \n",
    "\n",
    "def histogram_equalization(image): \n",
    "    cdf = [0]*256\n",
    "    sumx = [0]*256\n",
    "    summ = 0\n",
    "    for i in range(256): \n",
    "        cdf[i] = count_num(image,i)/20\n",
    "        summ += cdf[i]\n",
    "        sumx[i] = summ\n",
    "    new_image = []\n",
    "    for row in image :\n",
    "        new_row = [] \n",
    "        for pixel in row : \n",
    "            new_row.append(math.ceil(sumx[pixel]*255))\n",
    "        new_image.append(new_row)\n",
    "    return new_image\n",
    "# print(\"image after histogram Equalization\")\n",
    "# display(histogram_equalization(rgb_to_gray(image)))\n",
    "\n",
    "\n"
   ]
  },
  {
   "cell_type": "markdown",
   "metadata": {},
   "source": [
    "2.3"
   ]
  }
 ],
 "metadata": {
  "kernelspec": {
   "display_name": "Python 3",
   "language": "python",
   "name": "python3"
  },
  "language_info": {
   "codemirror_mode": {
    "name": "ipython",
    "version": 3
   },
   "file_extension": ".py",
   "mimetype": "text/x-python",
   "name": "python",
   "nbconvert_exporter": "python",
   "pygments_lexer": "ipython3",
   "version": "3.10.7"
  },
  "orig_nbformat": 4
 },
 "nbformat": 4,
 "nbformat_minor": 2
}
